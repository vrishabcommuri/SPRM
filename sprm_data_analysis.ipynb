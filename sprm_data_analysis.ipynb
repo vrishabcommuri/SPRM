{
 "cells": [
  {
   "cell_type": "code",
   "execution_count": 1,
   "metadata": {},
   "outputs": [],
   "source": [
    "import pandas as pd\n",
    "from scipy import stats\n",
    "import matplotlib.pyplot as plt\n",
    "import statsmodels\n",
    "from statsmodels.stats import power\n",
    "import numpy as np"
   ]
  },
  {
   "cell_type": "markdown",
   "metadata": {},
   "source": [
    "# Findings Summary\n",
    "\n",
    "### Stress and Extracurriculars\n",
    "* Students at CMU are significantly more stressed now compared to before the pandemic (p = 0.011)\n",
    "* Stress levels did not significantly differ between students who participated in extracurricular activities and those who did not: \n",
    "    * This is true both now (p = 0.917) and prior to the pandemic (p = 0.591)\n",
    "    * Among students who participated in extracurriculars, spending more time on their activity reported a significant decrease in stress (p = 0.046).\n",
    "    \n",
    "### Stress and Introversion\n",
    "* Self-reported introverts were not significantly more stressed this semester than self-reported extraverts (p = 0.648).\n",
    "\n",
    "### Stress and Loneliness\n",
    "* Students who are lonely are significantly more likely to be stressed this semester (p = 0.01).\n",
    "\n",
    "### Stress and Pets\n",
    "* Pet-owners are not significantly more stressed than non-pet-owners, whether they lived with the pet or not (p = 0.131).\n",
    "* Pet-owners did not report being significantly less lonely than non-pet-owners, even when the type of pet (e.g., cat, dog) was controlled for (p = 0.239)."
   ]
  },
  {
   "cell_type": "code",
   "execution_count": 2,
   "metadata": {
    "scrolled": false
   },
   "outputs": [
    {
     "data": {
      "text/html": [
       "<div>\n",
       "<style scoped>\n",
       "    .dataframe tbody tr th:only-of-type {\n",
       "        vertical-align: middle;\n",
       "    }\n",
       "\n",
       "    .dataframe tbody tr th {\n",
       "        vertical-align: top;\n",
       "    }\n",
       "\n",
       "    .dataframe thead th {\n",
       "        text-align: right;\n",
       "    }\n",
       "</style>\n",
       "<table border=\"1\" class=\"dataframe\">\n",
       "  <thead>\n",
       "    <tr style=\"text-align: right;\">\n",
       "      <th></th>\n",
       "      <th>Timestamp</th>\n",
       "      <th>I lack companionship</th>\n",
       "      <th>There is no one I can turn to</th>\n",
       "      <th>I am an outgoing person</th>\n",
       "      <th>I feel left out</th>\n",
       "      <th>I feel isolation from others</th>\n",
       "      <th>I can find companionship when I want it</th>\n",
       "      <th>I am unhappy being so withdrawn</th>\n",
       "      <th>People are around me but not with me</th>\n",
       "      <th>Where would you place yourself along this scale based on the definitions provided above?</th>\n",
       "      <th>...</th>\n",
       "      <th>Do you currently live with someone who is immunocompromised?.1</th>\n",
       "      <th>What's your living situation this semester?.1</th>\n",
       "      <th>During an average week in the Spring 2021 semester, how many hours do you spend on only *in-person* extracurricular activities (not including paid jobs)?</th>\n",
       "      <th>Do you participate in extracurricular activities (not including paid jobs)?</th>\n",
       "      <th>Are you working a paid full-time or part-time job this Spring 2021 semester?.1</th>\n",
       "      <th>If you have a paid job, are you employed by CMU?</th>\n",
       "      <th>If you have a paid job, what is the format of it?.1</th>\n",
       "      <th>What are the formats of your extracurricular activities? Check all that apply.</th>\n",
       "      <th>During an average week in the Spring 2021 semester, how many hours do you spend on only *online* extracurricular activities (not including paid jobs)?</th>\n",
       "      <th>During an average week in the Spring 2021 semester, how many hours do you spend on *hybrid* extracurricular activities (not including paid jobs)?</th>\n",
       "    </tr>\n",
       "  </thead>\n",
       "  <tbody>\n",
       "    <tr>\n",
       "      <th>0</th>\n",
       "      <td>4/2/2021 17:45:25</td>\n",
       "      <td>3</td>\n",
       "      <td>2.0</td>\n",
       "      <td>3</td>\n",
       "      <td>1</td>\n",
       "      <td>2</td>\n",
       "      <td>2</td>\n",
       "      <td>2.0</td>\n",
       "      <td>2</td>\n",
       "      <td>4</td>\n",
       "      <td>...</td>\n",
       "      <td>NaN</td>\n",
       "      <td>NaN</td>\n",
       "      <td>NaN</td>\n",
       "      <td>NaN</td>\n",
       "      <td>NaN</td>\n",
       "      <td>NaN</td>\n",
       "      <td>NaN</td>\n",
       "      <td>NaN</td>\n",
       "      <td>NaN</td>\n",
       "      <td>NaN</td>\n",
       "    </tr>\n",
       "    <tr>\n",
       "      <th>1</th>\n",
       "      <td>4/2/2021 17:52:32</td>\n",
       "      <td>2</td>\n",
       "      <td>1.0</td>\n",
       "      <td>4</td>\n",
       "      <td>2</td>\n",
       "      <td>2</td>\n",
       "      <td>3</td>\n",
       "      <td>2.0</td>\n",
       "      <td>1</td>\n",
       "      <td>5</td>\n",
       "      <td>...</td>\n",
       "      <td>NaN</td>\n",
       "      <td>NaN</td>\n",
       "      <td>NaN</td>\n",
       "      <td>NaN</td>\n",
       "      <td>NaN</td>\n",
       "      <td>NaN</td>\n",
       "      <td>NaN</td>\n",
       "      <td>NaN</td>\n",
       "      <td>NaN</td>\n",
       "      <td>NaN</td>\n",
       "    </tr>\n",
       "    <tr>\n",
       "      <th>2</th>\n",
       "      <td>4/2/2021 18:03:10</td>\n",
       "      <td>1</td>\n",
       "      <td>1.0</td>\n",
       "      <td>2</td>\n",
       "      <td>1</td>\n",
       "      <td>2</td>\n",
       "      <td>4</td>\n",
       "      <td>2.0</td>\n",
       "      <td>2</td>\n",
       "      <td>3</td>\n",
       "      <td>...</td>\n",
       "      <td>NaN</td>\n",
       "      <td>NaN</td>\n",
       "      <td>NaN</td>\n",
       "      <td>NaN</td>\n",
       "      <td>NaN</td>\n",
       "      <td>NaN</td>\n",
       "      <td>NaN</td>\n",
       "      <td>NaN</td>\n",
       "      <td>NaN</td>\n",
       "      <td>NaN</td>\n",
       "    </tr>\n",
       "    <tr>\n",
       "      <th>3</th>\n",
       "      <td>4/2/2021 18:36:52</td>\n",
       "      <td>3</td>\n",
       "      <td>2.0</td>\n",
       "      <td>3</td>\n",
       "      <td>1</td>\n",
       "      <td>2</td>\n",
       "      <td>2</td>\n",
       "      <td>2.0</td>\n",
       "      <td>2</td>\n",
       "      <td>4</td>\n",
       "      <td>...</td>\n",
       "      <td>NaN</td>\n",
       "      <td>NaN</td>\n",
       "      <td>NaN</td>\n",
       "      <td>NaN</td>\n",
       "      <td>NaN</td>\n",
       "      <td>NaN</td>\n",
       "      <td>NaN</td>\n",
       "      <td>NaN</td>\n",
       "      <td>NaN</td>\n",
       "      <td>NaN</td>\n",
       "    </tr>\n",
       "    <tr>\n",
       "      <th>4</th>\n",
       "      <td>4/3/2021 0:43:14</td>\n",
       "      <td>1</td>\n",
       "      <td>1.0</td>\n",
       "      <td>3</td>\n",
       "      <td>2</td>\n",
       "      <td>2</td>\n",
       "      <td>3</td>\n",
       "      <td>2.0</td>\n",
       "      <td>2</td>\n",
       "      <td>3</td>\n",
       "      <td>...</td>\n",
       "      <td>NaN</td>\n",
       "      <td>NaN</td>\n",
       "      <td>NaN</td>\n",
       "      <td>NaN</td>\n",
       "      <td>NaN</td>\n",
       "      <td>NaN</td>\n",
       "      <td>NaN</td>\n",
       "      <td>NaN</td>\n",
       "      <td>NaN</td>\n",
       "      <td>NaN</td>\n",
       "    </tr>\n",
       "  </tbody>\n",
       "</table>\n",
       "<p>5 rows × 39 columns</p>\n",
       "</div>"
      ],
      "text/plain": [
       "           Timestamp  I lack companionship  There is no one I can turn to  \\\n",
       "0  4/2/2021 17:45:25                     3                            2.0   \n",
       "1  4/2/2021 17:52:32                     2                            1.0   \n",
       "2  4/2/2021 18:03:10                     1                            1.0   \n",
       "3  4/2/2021 18:36:52                     3                            2.0   \n",
       "4   4/3/2021 0:43:14                     1                            1.0   \n",
       "\n",
       "   I am an outgoing person  I feel left out  I feel isolation from others  \\\n",
       "0                        3                1                             2   \n",
       "1                        4                2                             2   \n",
       "2                        2                1                             2   \n",
       "3                        3                1                             2   \n",
       "4                        3                2                             2   \n",
       "\n",
       "   I can find companionship when I want it  I am unhappy being so withdrawn  \\\n",
       "0                                        2                              2.0   \n",
       "1                                        3                              2.0   \n",
       "2                                        4                              2.0   \n",
       "3                                        2                              2.0   \n",
       "4                                        3                              2.0   \n",
       "\n",
       "   People are around me but not with me  \\\n",
       "0                                     2   \n",
       "1                                     1   \n",
       "2                                     2   \n",
       "3                                     2   \n",
       "4                                     2   \n",
       "\n",
       "   Where would you place yourself along this scale based on the definitions provided above?  \\\n",
       "0                                                  4                                          \n",
       "1                                                  5                                          \n",
       "2                                                  3                                          \n",
       "3                                                  4                                          \n",
       "4                                                  3                                          \n",
       "\n",
       "   ... Do you currently live with someone who is immunocompromised?.1  \\\n",
       "0  ...                                                NaN               \n",
       "1  ...                                                NaN               \n",
       "2  ...                                                NaN               \n",
       "3  ...                                                NaN               \n",
       "4  ...                                                NaN               \n",
       "\n",
       "  What's your living situation this semester?.1  \\\n",
       "0                                           NaN   \n",
       "1                                           NaN   \n",
       "2                                           NaN   \n",
       "3                                           NaN   \n",
       "4                                           NaN   \n",
       "\n",
       "  During an average week in the Spring 2021 semester, how many hours do you spend on only *in-person* extracurricular activities (not including paid jobs)?    \\\n",
       "0                                                NaN                                                                                                            \n",
       "1                                                NaN                                                                                                            \n",
       "2                                                NaN                                                                                                            \n",
       "3                                                NaN                                                                                                            \n",
       "4                                                NaN                                                                                                            \n",
       "\n",
       "  Do you participate in extracurricular activities (not including paid jobs)?   \\\n",
       "0                                                NaN                             \n",
       "1                                                NaN                             \n",
       "2                                                NaN                             \n",
       "3                                                NaN                             \n",
       "4                                                NaN                             \n",
       "\n",
       "  Are you working a paid full-time or part-time job this Spring 2021 semester?.1  \\\n",
       "0                                                NaN                               \n",
       "1                                                NaN                               \n",
       "2                                                NaN                               \n",
       "3                                                NaN                               \n",
       "4                                                NaN                               \n",
       "\n",
       "  If you have a paid job, are you employed by CMU?  \\\n",
       "0                                              NaN   \n",
       "1                                              NaN   \n",
       "2                                              NaN   \n",
       "3                                              NaN   \n",
       "4                                              NaN   \n",
       "\n",
       "  If you have a paid job, what is the format of it?.1  \\\n",
       "0                                                NaN    \n",
       "1                                                NaN    \n",
       "2                                                NaN    \n",
       "3                                                NaN    \n",
       "4                                                NaN    \n",
       "\n",
       "  What are the formats of your extracurricular activities? Check all that apply.  \\\n",
       "0                                                NaN                               \n",
       "1                                                NaN                               \n",
       "2                                                NaN                               \n",
       "3                                                NaN                               \n",
       "4                                                NaN                               \n",
       "\n",
       "  During an average week in the Spring 2021 semester, how many hours do you spend on only *online* extracurricular activities (not including paid jobs)?    \\\n",
       "0                                                NaN                                                                                                         \n",
       "1                                                NaN                                                                                                         \n",
       "2                                                NaN                                                                                                         \n",
       "3                                                NaN                                                                                                         \n",
       "4                                                NaN                                                                                                         \n",
       "\n",
       "  During an average week in the Spring 2021 semester, how many hours do you spend on *hybrid* extracurricular activities (not including paid jobs)?    \n",
       "0                                                NaN                                                                                                   \n",
       "1                                                NaN                                                                                                   \n",
       "2                                                NaN                                                                                                   \n",
       "3                                                NaN                                                                                                   \n",
       "4                                                NaN                                                                                                   \n",
       "\n",
       "[5 rows x 39 columns]"
      ]
     },
     "execution_count": 2,
     "metadata": {},
     "output_type": "execute_result"
    }
   ],
   "source": [
    "df = pd.read_csv(\"./data/SPRM_survey.csv\")\n",
    "df.head()"
   ]
  },
  {
   "cell_type": "code",
   "execution_count": 3,
   "metadata": {
    "scrolled": false
   },
   "outputs": [
    {
     "data": {
      "text/plain": [
       "['Timestamp',\n",
       " 'I lack companionship',\n",
       " 'There is no one I can turn to',\n",
       " 'I am an outgoing person',\n",
       " 'I feel left out',\n",
       " 'I feel isolation from others',\n",
       " 'I can find companionship when I want it',\n",
       " 'I am unhappy being so withdrawn',\n",
       " 'People are around me but not with me',\n",
       " 'Where would you place yourself along this scale based on the definitions provided above?',\n",
       " 'Are you a pet-owner?',\n",
       " 'Do you  live with a pet this semester?',\n",
       " 'What pet(s) do you have? Check all that apply.',\n",
       " 'Do you live with more than one pet currently (during school this semester)? ',\n",
       " 'If you have more than one pet, please select the one you spend the most time with to answer additional questions about, and indicate what type of animal they are below. ',\n",
       " 'If you currently live with a pet, are you involved in caring for the pet you live with?',\n",
       " 'How many hours per day do you spend interacting with your pet? ',\n",
       " 'Is your pet a registered service animal or emotional support animal providing care for you?',\n",
       " 'How long have you shared a living space with your pet?',\n",
       " 'What gender do you identify as?',\n",
       " 'What race(s) do you identify as? Check all that apply.',\n",
       " 'What school year are you in?',\n",
       " 'What is your primary academic college at CMU?',\n",
       " 'Rate your stress level during previous semesters at CMU (prior to COVID-19). Leave blank if not applicable.',\n",
       " 'How confident are you about your abilities to balance your coursework this Spring 2021 semester?',\n",
       " 'PARTICIPANT CONSENT',\n",
       " 'Rate your stress level during this semester at CMU',\n",
       " 'PARTICIPANT AGE REQUIREMENT',\n",
       " 'Do you currently live with a healthcare worker?.1',\n",
       " 'Do you currently live with someone who is immunocompromised?.1',\n",
       " \"What's your living situation this semester?.1\",\n",
       " 'During an average week in the Spring 2021 semester, how many hours do you spend on only *in-person* extracurricular activities (not including paid jobs)?  ',\n",
       " 'Do you participate in extracurricular activities (not including paid jobs)? ',\n",
       " 'Are you working a paid full-time or part-time job this Spring 2021 semester?.1',\n",
       " 'If you have a paid job, are you employed by CMU?',\n",
       " 'If you have a paid job, what is the format of it?.1',\n",
       " 'What are the formats of your extracurricular activities? Check all that apply.',\n",
       " 'During an average week in the Spring 2021 semester, how many hours do you spend on only *online* extracurricular activities (not including paid jobs)?  ',\n",
       " 'During an average week in the Spring 2021 semester, how many hours do you spend on *hybrid* extracurricular activities (not including paid jobs)?  ']"
      ]
     },
     "execution_count": 3,
     "metadata": {},
     "output_type": "execute_result"
    }
   ],
   "source": [
    "df.columns.tolist()"
   ]
  },
  {
   "cell_type": "markdown",
   "metadata": {},
   "source": [
    "# <span style=\"color:tomato\"> Analysis of Self-Reported Stress and Extracurricular Activity </span>"
   ]
  },
  {
   "cell_type": "code",
   "execution_count": 4,
   "metadata": {},
   "outputs": [
    {
     "data": {
      "image/png": "[encoded data removed]",
      "text/plain": [
       "<Figure size 1080x720 with 1 Axes>"
      ]
     },
     "metadata": {
      "needs_background": "light"
     },
     "output_type": "display_data"
    }
   ],
   "source": [
    "priorstress = df['Rate your stress level during previous semesters at CMU (prior to COVID-19).'\\\n",
    "                 ' Leave blank if not applicable.']\n",
    "currentstress = df['Rate your stress level during this semester at CMU']\n",
    "\n",
    "# the priorstress group has some N/A responses; drop them\n",
    "priorstress = priorstress.dropna()\n",
    "\n",
    "plt.figure(figsize=(15,10))\n",
    "plt.hist([priorstress, currentstress], label=['prior stress', 'current stress'])\n",
    "plt.legend(loc='upper right')\n",
    "plt.show()"
   ]
  },
  {
   "cell_type": "markdown",
   "metadata": {},
   "source": [
    "## Power Analysis \n",
    "\n",
    "We must ensure that our sample size is sufficient to perform the statistical test"
   ]
  },
  {
   "cell_type": "code",
   "execution_count": 5,
   "metadata": {},
   "outputs": [
    {
     "name": "stdout",
     "output_type": "stream",
     "text": [
      "Required sample size: 23.947\n",
      "size of sample 1 is 64\n",
      "size of sample 2 is 73\n"
     ]
    }
   ],
   "source": [
    "# Cohen's d for large effect size = 0.8\n",
    "effect = 0.8\n",
    "\n",
    "# probability of type I error\n",
    "alpha = 0.05\n",
    "\n",
    "# 0.8 implies a four-to-one trade off between β-risk and α-risk. \n",
    "# β is the probability of a type II error, and α is the probability of a type I error.\n",
    "power = 0.8\n",
    "\n",
    "sample1size = len(priorstress)\n",
    "sample2size = len(currentstress)\n",
    "ratio = sample2size/sample1size\n",
    "\n",
    "analysis = statsmodels.stats.power.TTestIndPower()\n",
    "result = analysis.solve_power(effect, power=power, nobs1=None, ratio=ratio, alpha=alpha)\n",
    "print(f'Required sample size: {result:.3f}')\n",
    "print(f'size of sample 1 is {sample1size}')\n",
    "print(f'size of sample 2 is {sample2size}')"
   ]
  },
  {
   "cell_type": "code",
   "execution_count": 6,
   "metadata": {},
   "outputs": [
    {
     "name": "stdout",
     "output_type": "stream",
     "text": [
      "pvalue 0.011\n"
     ]
    }
   ],
   "source": [
    "t, p = stats.ttest_ind(priorstress, currentstress)\n",
    "print(f'pvalue {p:.3f}')"
   ]
  },
  {
   "cell_type": "code",
   "execution_count": 7,
   "metadata": {},
   "outputs": [
    {
     "name": "stdout",
     "output_type": "stream",
     "text": [
      "Yes    29\n",
      "No      9\n",
      "Name: Do you participate in extracurricular activities (not including paid jobs)? , dtype: int64\n",
      "Online                       7\n",
      "In-Person, Online, Hybrid    6\n",
      "In-Person, Online            5\n",
      "In-Person                    4\n",
      "Hybrid                       4\n",
      "Online, Hybrid               3\n",
      "Name: What are the formats of your extracurricular activities? Check all that apply., dtype: int64\n"
     ]
    }
   ],
   "source": [
    "exc_yn = df['Do you participate in extracurricular activities (not including paid jobs)? ']\n",
    "print(exc_yn.value_counts())\n",
    "\n",
    "exc_format = df['What are the formats of your extracurricular activities? Check all that apply.']\n",
    "print(exc_format.value_counts())"
   ]
  },
  {
   "cell_type": "code",
   "execution_count": 8,
   "metadata": {},
   "outputs": [],
   "source": [
    "exc_yesgroup = df[exc_yn == 'Yes']\n",
    "exc_nogroup = df[exc_yn != 'Yes']\n",
    "\n",
    "exc_yesgroup_stresslevels_current = exc_yesgroup['Rate your stress level during this semester at CMU']\n",
    "exc_nogroup_stresslevels_current = exc_nogroup['Rate your stress level during this semester at CMU']"
   ]
  },
  {
   "cell_type": "code",
   "execution_count": 9,
   "metadata": {},
   "outputs": [
    {
     "name": "stdout",
     "output_type": "stream",
     "text": [
      "pvalue 0.917\n"
     ]
    }
   ],
   "source": [
    "t, p = stats.ttest_ind(exc_nogroup_stresslevels_current, exc_yesgroup_stresslevels_current)\n",
    "print(f'pvalue {p:.3f}')"
   ]
  },
  {
   "cell_type": "code",
   "execution_count": 10,
   "metadata": {},
   "outputs": [],
   "source": [
    "exc_yesgroup_stressleves_previous = exc_yesgroup['Rate your stress level during previous semesters at CMU (prior to COVID-19).'\\\n",
    "                                                 ' Leave blank if not applicable.'].dropna()\n",
    "exc_nogroup_stressleves_previous = exc_nogroup['Rate your stress level during previous semesters at CMU (prior to COVID-19).'\\\n",
    "                                               ' Leave blank if not applicable.'].dropna()"
   ]
  },
  {
   "cell_type": "code",
   "execution_count": 11,
   "metadata": {},
   "outputs": [
    {
     "name": "stdout",
     "output_type": "stream",
     "text": [
      "pvalue 0.591\n"
     ]
    }
   ],
   "source": [
    "t, p = stats.ttest_ind(exc_nogroup_stressleves_previous, exc_yesgroup_stressleves_previous)\n",
    "print(f'pvalue {p:.3f}')"
   ]
  },
  {
   "cell_type": "code",
   "execution_count": 12,
   "metadata": {},
   "outputs": [
    {
     "data": {
      "text/plain": [
       "(-0.37362440704882977, 0.04588025618988834)"
      ]
     },
     "execution_count": 12,
     "metadata": {},
     "output_type": "execute_result"
    }
   ],
   "source": [
    "hours = exc_yesgroup[['During an average week in the Spring 2021 semester, '+\n",
    "                      'how many hours do you spend on *hybrid* extracurricular '+\n",
    "                      'activities (not including paid jobs)?  ', \n",
    "                      'During an average week in the Spring 2021 semester, '+\n",
    "                      'how many hours do you spend on only *online* extracurricular '+\n",
    "                      'activities (not including paid jobs)?  ',\n",
    "                      'During an average week in the Spring 2021 semester, '+\n",
    "                      'how many hours do you spend on only *in-person* extracurricular '+\n",
    "                      'activities (not including paid jobs)?  ', \n",
    "                      'Rate your stress level during this semester at CMU']]\n",
    "\n",
    "\n",
    "hours.columns = ['hybrid', 'online', 'inperson', 'stress']\n",
    "\n",
    "timeintervals = list(enumerate(hours[['hybrid', 'online', 'inperson']].stack().unique()))\n",
    "timeintervals = {k:v for v, k in timeintervals}\n",
    "\n",
    "hours = hours.replace({'hybrid':timeintervals, 'online':timeintervals, 'inperson':timeintervals})\n",
    "\n",
    "totaltime = hours[['hybrid', 'online', 'inperson']].sum(axis=1)\n",
    "\n",
    "stats.pearsonr(hours.stress, totaltime)"
   ]
  },
  {
   "cell_type": "markdown",
   "metadata": {},
   "source": [
    "# <span style=\"color:tomato\"> Analysis of Self-Reported Stress and Extraversion/Introversion </span>"
   ]
  },
  {
   "cell_type": "code",
   "execution_count": 13,
   "metadata": {},
   "outputs": [
    {
     "name": "stdout",
     "output_type": "stream",
     "text": [
      "pvalue 0.648\n"
     ]
    }
   ],
   "source": [
    "extraversion = df['Where would you place yourself along this scale based on the definitions provided above?']\n",
    "\n",
    "introvert_group = df[extraversion <= 2]\n",
    "extravert_group = df[extraversion >= 4]\n",
    "\n",
    "introvert_stress = introvert_group['Rate your stress level during this semester at CMU']\n",
    "extravert_stress = extravert_group['Rate your stress level during this semester at CMU']\n",
    "\n",
    "t, p = stats.ttest_ind(introvert_stress, extravert_stress)\n",
    "print(f'pvalue {p:.3f}')"
   ]
  },
  {
   "cell_type": "markdown",
   "metadata": {},
   "source": [
    "# <span style=\"color:tomato\"> Analysis of Self-Reported Stress and Loneliness </span>"
   ]
  },
  {
   "cell_type": "code",
   "execution_count": 14,
   "metadata": {},
   "outputs": [
    {
     "data": {
      "text/plain": [
       "(9.0, 31.0, 16.10958904109589, 4.415296089407842)"
      ]
     },
     "execution_count": 14,
     "metadata": {},
     "output_type": "execute_result"
    }
   ],
   "source": [
    "stress = df['Rate your stress level during this semester at CMU']\n",
    "negative_labels = [0, 1, 3, 4, 6, 7]\n",
    "positive_labels = [2, 5]\n",
    "\n",
    "loneliness_labels = df.columns[1:9].values\n",
    "\n",
    "negative_responses = df[loneliness_labels[negative_labels]].sum(axis=1) \n",
    "# positive responses must be reversed in order to add to the negative scores\n",
    "positive_responses = (-1*df[loneliness_labels[positive_labels]] + 5).sum(axis=1) \n",
    "\n",
    "loneliness_score = negative_responses + positive_responses\n",
    "\n",
    "np.min(loneliness_score), np.max(loneliness_score), np.mean(loneliness_score), np.std(loneliness_score)"
   ]
  },
  {
   "cell_type": "code",
   "execution_count": 15,
   "metadata": {},
   "outputs": [
    {
     "data": {
      "text/plain": [
       "9.0      2\n",
       "10.0     3\n",
       "11.0     4\n",
       "12.0     1\n",
       "13.0    14\n",
       "14.0    12\n",
       "15.0     3\n",
       "16.0     5\n",
       "17.0     4\n",
       "18.0     5\n",
       "19.0     4\n",
       "20.0     4\n",
       "21.0     4\n",
       "22.0     2\n",
       "23.0     2\n",
       "24.0     1\n",
       "27.0     2\n",
       "31.0     1\n",
       "dtype: int64"
      ]
     },
     "execution_count": 15,
     "metadata": {},
     "output_type": "execute_result"
    }
   ],
   "source": [
    "loneliness_score.value_counts().sort_index()"
   ]
  },
  {
   "cell_type": "code",
   "execution_count": 16,
   "metadata": {},
   "outputs": [
    {
     "data": {
      "text/plain": [
       "(0.2998510147403011, 0.009957319074356277)"
      ]
     },
     "execution_count": 16,
     "metadata": {},
     "output_type": "execute_result"
    }
   ],
   "source": [
    "stats.pearsonr(loneliness_score, stress)"
   ]
  },
  {
   "cell_type": "markdown",
   "metadata": {},
   "source": [
    "# <span style=\"color:tomato\"> Analysis of Self-Reported Stress and Loneliness with Pet Ownership </span>"
   ]
  },
  {
   "cell_type": "code",
   "execution_count": 17,
   "metadata": {},
   "outputs": [
    {
     "name": "stdout",
     "output_type": "stream",
     "text": [
      "2.0     1\n",
      "3.0     4\n",
      "4.0     5\n",
      "5.0     9\n",
      "6.0    16\n",
      "7.0     3\n",
      "Name: Rate your stress level during this semester at CMU, dtype: int64\n",
      "3.0     1\n",
      "4.0     4\n",
      "5.0     9\n",
      "6.0    13\n",
      "7.0     6\n",
      "Name: Rate your stress level during this semester at CMU, dtype: int64\n"
     ]
    },
    {
     "data": {
      "text/plain": [
       "Ttest_indResult(statistic=-1.5282244727498577, pvalue=0.13102835226809093)"
      ]
     },
     "execution_count": 17,
     "metadata": {},
     "output_type": "execute_result"
    }
   ],
   "source": [
    "petowner_yesgroup = df[df['Are you a pet-owner?'] == 'Yes'] \n",
    "petowner_nogroup = df[df['Are you a pet-owner?'] == 'No'] \n",
    "\n",
    "petowner_yesstress = petowner_yesgroup['Rate your stress level during this semester at CMU']\n",
    "petowner_nostress = petowner_nogroup['Rate your stress level during this semester at CMU']\n",
    "\n",
    "print(petowner_yesstress.value_counts().sort_index())\n",
    "print(petowner_nostress.value_counts().sort_index())\n",
    "\n",
    "stats.ttest_ind(petowner_yesstress, petowner_nostress)"
   ]
  },
  {
   "cell_type": "code",
   "execution_count": 18,
   "metadata": {},
   "outputs": [
    {
     "name": "stdout",
     "output_type": "stream",
     "text": [
      "3.0    3\n",
      "4.0    2\n",
      "5.0    4\n",
      "6.0    8\n",
      "7.0    1\n",
      "Name: Rate your stress level during this semester at CMU, dtype: int64\n",
      "3.0     1\n",
      "4.0     4\n",
      "5.0     9\n",
      "6.0    13\n",
      "7.0     6\n",
      "Name: Rate your stress level during this semester at CMU, dtype: int64\n"
     ]
    },
    {
     "data": {
      "text/plain": [
       "Ttest_indResult(statistic=-1.4349569892329497, pvalue=0.1576517430884806)"
      ]
     },
     "execution_count": 18,
     "metadata": {},
     "output_type": "execute_result"
    }
   ],
   "source": [
    "petowner_yesgroup = df[(df['Are you a pet-owner?'] == 'Yes') & (df['Do you  live with a pet this semester?'] == 'Yes')] \n",
    "petowner_nogroup = df[df['Are you a pet-owner?'] == 'No'] \n",
    "\n",
    "petowner_yesstress = petowner_yesgroup['Rate your stress level during this semester at CMU']\n",
    "petowner_nostress = petowner_nogroup['Rate your stress level during this semester at CMU']\n",
    "\n",
    "print(petowner_yesstress.value_counts().sort_index())\n",
    "print(petowner_nostress.value_counts().sort_index())\n",
    "\n",
    "stats.ttest_ind(petowner_yesstress, petowner_nostress)"
   ]
  },
  {
   "cell_type": "code",
   "execution_count": 19,
   "metadata": {},
   "outputs": [
    {
     "name": "stdout",
     "output_type": "stream",
     "text": [
      "p value 0.962\n"
     ]
    }
   ],
   "source": [
    "petowner_yesgroup = df[(df['Are you a pet-owner?'] == 'Yes') & (df['Do you  live with a pet this semester?'] == 'Yes')] \n",
    "petowner_nogroup = df[df['Are you a pet-owner?'] == 'No'] \n",
    "\n",
    "petowner_yesloneliness = loneliness_score[loneliness_score.index.isin(petowner_yesgroup.index)]\n",
    "petowner_noloneliness = loneliness_score[loneliness_score.index.isin(petowner_nogroup.index)]\n",
    "\n",
    "t, p = stats.ttest_ind(petowner_yesloneliness, petowner_noloneliness)\n",
    "print(f\"p value {p:.3f}\")"
   ]
  },
  {
   "cell_type": "code",
   "execution_count": 20,
   "metadata": {},
   "outputs": [
    {
     "name": "stdout",
     "output_type": "stream",
     "text": [
      "p value 0.239\n"
     ]
    }
   ],
   "source": [
    "dogs = df['What pet(s) do you have? Check all that apply.'].str.contains(\"Dog\").fillna(False)\n",
    "cats = df['What pet(s) do you have? Check all that apply.'].str.contains(\"Cat\").fillna(False)\n",
    "other = df['What pet(s) do you have? Check all that apply.'].fillna(\"None\")\n",
    "other = other[~other.str.contains(\"Dog|Cat\")]\n",
    "\n",
    "doggroup = df[dogs & ~cats]\n",
    "catgroup = df[cats]\n",
    "othergroup = df.iloc[other.index]\n",
    "\n",
    "doggroup_loneliness = loneliness_score[loneliness_score.index.isin(doggroup.index)]\n",
    "catgroup_loneliness = loneliness_score[loneliness_score.index.isin(catgroup.index)]\n",
    "othergroup_loneliness = loneliness_score[loneliness_score.index.isin(othergroup.index)]\n",
    "\n",
    "F, p = stats.f_oneway(doggroup_loneliness, catgroup_loneliness, othergroup_loneliness)\n",
    "print(f\"p value {p:.3f}\")"
   ]
  },
  {
   "cell_type": "markdown",
   "metadata": {},
   "source": [
    "# <span style=\"color:tomato\"> Demographics </span>"
   ]
  },
  {
   "cell_type": "code",
   "execution_count": 21,
   "metadata": {},
   "outputs": [
    {
     "data": {
      "text/plain": [
       "Asian                                                                 34\n",
       "White                                                                 25\n",
       "Asian, White                                                           7\n",
       "Black or African American                                              4\n",
       "Native Hawaiian or Other Pacific Islander, White                       2\n",
       "American Indian or Alaska Native, Asian, Black or African American     1\n",
       "Name: What race(s) do you identify as? Check all that apply., dtype: int64"
      ]
     },
     "execution_count": 21,
     "metadata": {},
     "output_type": "execute_result"
    }
   ],
   "source": [
    "race = df['What race(s) do you identify as? Check all that apply.']\n",
    "race.value_counts()"
   ]
  },
  {
   "cell_type": "code",
   "execution_count": 22,
   "metadata": {},
   "outputs": [
    {
     "data": {
      "text/plain": [
       "Female    52\n",
       "Male      21\n",
       "Name: What gender do you identify as?, dtype: int64"
      ]
     },
     "execution_count": 22,
     "metadata": {},
     "output_type": "execute_result"
    }
   ],
   "source": [
    "gender = df['What gender do you identify as?']\n",
    "gender.value_counts()"
   ]
  },
  {
   "cell_type": "code",
   "execution_count": 23,
   "metadata": {},
   "outputs": [
    {
     "data": {
      "text/plain": [
       "second year                                   23\n",
       "fourth year                                   22\n",
       "first year                                    13\n",
       "third year                                    12\n",
       "5th year or above (grad students included)     3\n",
       "Name: What school year are you in?, dtype: int64"
      ]
     },
     "execution_count": 23,
     "metadata": {},
     "output_type": "execute_result"
    }
   ],
   "source": [
    "year = df['What school year are you in?']\n",
    "year.value_counts()"
   ]
  },
  {
   "cell_type": "code",
   "execution_count": 24,
   "metadata": {},
   "outputs": [
    {
     "data": {
      "text/plain": [
       "What is your primary academic college at CMU?\n",
       "Carnegie Institute of Technology    4.666667\n",
       "College of Fine Arts                     NaN\n",
       "Dietrich College                    4.647059\n",
       "Mellon College of Science           5.545455\n",
       "School of Computer Science          5.166667\n",
       "Tepper School of Business           5.000000\n",
       "dtype: float64"
      ]
     },
     "execution_count": 24,
     "metadata": {},
     "output_type": "execute_result"
    }
   ],
   "source": [
    "df.groupby(\"What is your primary \"+\n",
    "           \"academic college at CMU?\").apply(lambda x: x[(\"Rate your stress level \"+ \n",
    "                                                          \"during previous semesters at CMU \"+\n",
    "                                                          \"(prior to COVID-19). Leave blank \"+ \n",
    "                                                          \"if not applicable.\")].mean())"
   ]
  },
  {
   "cell_type": "code",
   "execution_count": 25,
   "metadata": {},
   "outputs": [
    {
     "data": {
      "text/plain": [
       "Carnegie Institute of Technology    24\n",
       "Dietrich College                    20\n",
       "Mellon College of Science           12\n",
       "Tepper School of Business            9\n",
       "School of Computer Science           6\n",
       "College of Fine Arts                 2\n",
       "Name: What is your primary academic college at CMU?, dtype: int64"
      ]
     },
     "execution_count": 25,
     "metadata": {},
     "output_type": "execute_result"
    }
   ],
   "source": [
    "df[\"What is your primary academic college at CMU?\"].value_counts()"
   ]
  },
  {
   "cell_type": "code",
   "execution_count": 26,
   "metadata": {},
   "outputs": [
    {
     "data": {
      "text/plain": [
       "Dog                                     21\n",
       "Cat                                      9\n",
       "Dog, Cat                                 3\n",
       "Dog, Cat, Fish                           3\n",
       "Dog, Fish                                2\n",
       "Fish, frog                               2\n",
       "Fish                                     1\n",
       "None                                     1\n",
       "Dog, Lizard/Gecko                        1\n",
       "Dog, Cat, 9 chickens in the backyard     1\n",
       "Name: What pet(s) do you have? Check all that apply., dtype: int64"
      ]
     },
     "execution_count": 26,
     "metadata": {},
     "output_type": "execute_result"
    }
   ],
   "source": [
    "df['What pet(s) do you have? Check all that apply.'].value_counts()"
   ]
  }
 ],
 "metadata": {
  "kernelspec": {
   "display_name": "Python 3",
   "language": "python",
   "name": "python3"
  },
  "language_info": {
   "codemirror_mode": {
    "name": "ipython",
    "version": 3
   },
   "file_extension": ".py",
   "mimetype": "text/x-python",
   "name": "python",
   "nbconvert_exporter": "python",
   "pygments_lexer": "ipython3",
   "version": "3.9.1"
  }
 },
 "nbformat": 4,
 "nbformat_minor": 4
}
